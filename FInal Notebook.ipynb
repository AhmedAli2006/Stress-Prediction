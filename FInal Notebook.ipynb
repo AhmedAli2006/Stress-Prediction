{
 "cells": [
  {
   "cell_type": "code",
   "execution_count": 1,
   "metadata": {},
   "outputs": [],
   "source": [
    "import pandas as pd\n",
    "import numpy as np\n",
    "import datetime\n",
    "from datetime import datetime as dt\n",
    "import seaborn as sns\n",
    "import matplotlib.pyplot as plt"
   ]
  },
  {
   "cell_type": "code",
   "execution_count": 2,
   "metadata": {},
   "outputs": [],
   "source": [
    "ACC, BVP, EDA, HR, IBI, tags, TEMP = [], [], [], [], [], [], []"
   ]
  },
  {
   "attachments": {},
   "cell_type": "markdown",
   "metadata": {},
   "source": [
    "## Loading The CSV files"
   ]
  },
  {
   "cell_type": "code",
   "execution_count": 3,
   "metadata": {},
   "outputs": [],
   "source": [
    "# This Code block will load the csv files for every student.\n",
    "# The index of every list actually contains the data of that perticular student \n",
    "# e.g: ACC[0] contains ACC values of Student # 1, ACC[1] contains ACC Values for Student # 2\n",
    "# All the other lists follow the same pattern\n",
    "\n",
    "for i in range(1,36):\n",
    "    ACC.append(pd.read_csv('Raw_data/S' + '%02d'%i + '/ACC.csv', header=None, index_col=None))\n",
    "    BVP.append(pd.read_csv('Raw_data/S' + '%02d'%i + '/BVP.csv', header=None, index_col=None))\n",
    "    EDA.append(pd.read_csv('Raw_data/S' + '%02d'%i + '/EDA.csv', header=None, index_col=None))\n",
    "    HR.append(pd.read_csv('Raw_data/S' + '%02d'%i + '/HR.csv', header=None, index_col=None))\n",
    "    IBI.append(pd.read_csv('Raw_data/S' + '%02d'%i + '/IBI.csv', header=None, index_col=None))\n",
    "    tags.append(pd.read_csv('Raw_data/S' + '%02d'%i + '/tags_S' + '%02d'%i + '.csv', header=None))\n",
    "    TEMP.append(pd.read_csv('Raw_data/S' + '%02d'%i + '/TEMP.csv', header=None, index_col=None))"
   ]
  },
  {
   "attachments": {},
   "cell_type": "markdown",
   "metadata": {},
   "source": [
    "## Combining the BVP, EDA, HR and TEMP of for each student."
   ]
  },
  {
   "cell_type": "code",
   "execution_count": 4,
   "metadata": {},
   "outputs": [],
   "source": [
    "# This Code block actually combines the BVP, EDA, HR and TEMP values of each studeint in one dictonary.\n",
    "\n",
    "# Also, it checks for the start time of each signal and considers only those values which come after the start time of signal which start last.\n",
    "\n",
    "S = []\n",
    "first_start, last_start, last_start_simple, diff = [], [], [], []\n",
    "for i in range(0, 35):\n",
    "    S.append({\"BVP\": [], \"EDA\": [], \"HR\": [], \"TEMP\": []})\n",
    "    last_start.append(max([BVP[i][0][0], EDA[i][0][0], HR[i][0][0], TEMP[i][0][0]]))\n",
    "    first_start.append(min([BVP[i][0][0], EDA[i][0][0], HR[i][0][0], TEMP[i][0][0]]))\n",
    "    diff.append(int(last_start[i] - first_start[i]))\n",
    "    S[i][\"BVP\"].append(BVP[i][0].drop(BVP[i][0].index[0:((diff[i] * int(BVP[i][0][1])) - 1)]).reset_index(drop=True))\n",
    "    S[i][\"EDA\"].append(EDA[i][0].drop(EDA[i][0].index[0:((diff[i] * int(EDA[i][0][1])) - 1)]).reset_index(drop=True))\n",
    "    S[i][\"HR\"].append(HR[i][0].drop(HR[i][0].index[0:((diff[i] * int(HR[i][0][1])) - 1)]).reset_index(drop=True))\n",
    "    S[i][\"TEMP\"].append(TEMP[i][0].drop(TEMP[i][0].index[0:((diff[i] * int(TEMP[i][0][1])) - 1)]).reset_index(drop=True))\n",
    "    last_start_simple.append(datetime.datetime.fromtimestamp(last_start[i]).strftime('%I:%M:%S'))\n",
    "    first_start[i] = datetime.datetime.fromtimestamp(first_start[i]).strftime('%H:%M:%S')\n",
    "    S[i][\"BVP\"] = S[i][\"BVP\"][0].tolist()\n",
    "    S[i][\"EDA\"] = S[i][\"EDA\"][0].tolist()\n",
    "    S[i][\"HR\"] = S[i][\"HR\"][0].tolist()\n",
    "    S[i][\"TEMP\"] = S[i][\"TEMP\"][0].tolist()"
   ]
  },
  {
   "attachments": {},
   "cell_type": "markdown",
   "metadata": {},
   "source": [
    "## Dealing with the different Sampling Rate of Signals"
   ]
  },
  {
   "cell_type": "code",
   "execution_count": 5,
   "metadata": {},
   "outputs": [],
   "source": [
    "# This block is actually taking the sample from all the signals ater one second because, the lowest samppling rate is of HR (1 sample per Second)\n",
    "\n",
    "for i in range(0,35):\n",
    "    for j in range(int(len(S[i][\"BVP\"])/BVP[i][0][1])):\n",
    "        Y = 0\n",
    "        del S[i][\"BVP\"][1+Y : Y + int(BVP[i][0][1])]\n",
    "        Y = Y + int(BVP[i][0][1])\n",
    "\n",
    "    for j in range(int(len(S[i][\"EDA\"])/EDA[i][0][1])):\n",
    "        Y = 0\n",
    "        del S[i][\"EDA\"][1+Y : Y + int(EDA[i][0][1])]\n",
    "        Y = Y + int(EDA[i][0][1])\n",
    "\n",
    "    for j in range(int(len(S[i][\"HR\"])/HR[i][0][1])):\n",
    "        Y = 0\n",
    "        del S[i][\"HR\"][1+Y : Y + int(HR[i][0][1])]\n",
    "        Y = Y + int(HR[i][0][1])\n",
    "\n",
    "    for j in range(int(len(S[i][\"TEMP\"])/TEMP[i][0][1])):\n",
    "        Y = 0\n",
    "        del S[i][\"TEMP\"][1+Y : Y + int(TEMP[i][0][1])]\n",
    "        Y = Y + int(TEMP[i][0][1])"
   ]
  },
  {
   "attachments": {},
   "cell_type": "markdown",
   "metadata": {},
   "source": [
    "## Reading the Time Log for Students"
   ]
  },
  {
   "cell_type": "code",
   "execution_count": 6,
   "metadata": {},
   "outputs": [],
   "source": [
    "time_log = pd.read_excel('Processed_data/Time_logs.xlsx')"
   ]
  },
  {
   "attachments": {},
   "cell_type": "markdown",
   "metadata": {},
   "source": [
    "## Defining stressed and non-Stressed periods"
   ]
  },
  {
   "cell_type": "code",
   "execution_count": 7,
   "metadata": {},
   "outputs": [],
   "source": [
    "# This block of code actually markes the time period of Stroop Test, Interview and Hyperventilation test as the stressfull periods.\n",
    "\n",
    "# Label column represents the stress level as 0 or 1.\n",
    "# 0 = No stress\n",
    "# 1 = Stress\n",
    "\n",
    "for i in range(0, 35):\n",
    "    minimun = min(len(lst) for lst in S[i].values())\n",
    "    S[i][\"Label\"] = [0] * minimun\n",
    "    for j in [8, 10, 12]:\n",
    "        if time_log.iloc[i+1,8] > dt.time(dt.strptime(last_start_simple[i], \"%H:%M:%S\")):\n",
    "            differ1 = (time_log.iloc[i+1,j].hour * 3600 + time_log.iloc[i+1,j].minute * 60) - (dt.time(dt.strptime(last_start_simple[i], \"%H:%M:%S\")).hour *3600 + dt.time(dt.strptime(last_start_simple[i], \"%H:%M:%S\")).minute *60 + dt.time(dt.strptime(last_start_simple[i], \"%H:%M:%S\")).second)\n",
    "            differ2 = (time_log.iloc[i+1,j+1].hour * 3600 + time_log.iloc[i+1,j+1].minute * 60) - (dt.time(dt.strptime(last_start_simple[i], \"%H:%M:%S\")).hour *3600 + dt.time(dt.strptime(last_start_simple[i], \"%H:%M:%S\")).minute *60 + dt.time(dt.strptime(last_start_simple[i], \"%H:%M:%S\")).second)\n",
    "            S[i][\"Label\"][differ1:differ2] = [1]*(differ2-differ1)\n",
    "\n",
    "    del S[i][\"BVP\"][minimun:]\n",
    "    del S[i][\"EDA\"][minimun:]\n",
    "    del S[i][\"HR\"][minimun:]\n",
    "    del S[i][\"TEMP\"][minimun:]\n",
    "    del S[i][\"Label\"][minimun:]"
   ]
  },
  {
   "attachments": {},
   "cell_type": "markdown",
   "metadata": {},
   "source": [
    "## Converting the Dictionaries of every students into separate dataframes."
   ]
  },
  {
   "cell_type": "code",
   "execution_count": 8,
   "metadata": {},
   "outputs": [],
   "source": [
    "S_df = []\n",
    "for i in range(0, 35):\n",
    "    S_df.append(pd.DataFrame(S[i]))"
   ]
  },
  {
   "cell_type": "code",
   "execution_count": 9,
   "metadata": {},
   "outputs": [
    {
     "data": {
      "text/html": [
       "<div>\n",
       "<style scoped>\n",
       "    .dataframe tbody tr th:only-of-type {\n",
       "        vertical-align: middle;\n",
       "    }\n",
       "\n",
       "    .dataframe tbody tr th {\n",
       "        vertical-align: top;\n",
       "    }\n",
       "\n",
       "    .dataframe thead th {\n",
       "        text-align: right;\n",
       "    }\n",
       "</style>\n",
       "<table border=\"1\" class=\"dataframe\">\n",
       "  <thead>\n",
       "    <tr style=\"text-align: right;\">\n",
       "      <th></th>\n",
       "      <th>BVP</th>\n",
       "      <th>EDA</th>\n",
       "      <th>HR</th>\n",
       "      <th>TEMP</th>\n",
       "      <th>Label</th>\n",
       "    </tr>\n",
       "  </thead>\n",
       "  <tbody>\n",
       "    <tr>\n",
       "      <th>0</th>\n",
       "      <td>-27.92</td>\n",
       "      <td>0.170407</td>\n",
       "      <td>82.38</td>\n",
       "      <td>28.39</td>\n",
       "      <td>0</td>\n",
       "    </tr>\n",
       "    <tr>\n",
       "      <th>1</th>\n",
       "      <td>-32.25</td>\n",
       "      <td>0.477908</td>\n",
       "      <td>82.67</td>\n",
       "      <td>28.13</td>\n",
       "      <td>0</td>\n",
       "    </tr>\n",
       "    <tr>\n",
       "      <th>2</th>\n",
       "      <td>-36.93</td>\n",
       "      <td>0.479189</td>\n",
       "      <td>83.10</td>\n",
       "      <td>28.13</td>\n",
       "      <td>0</td>\n",
       "    </tr>\n",
       "    <tr>\n",
       "      <th>3</th>\n",
       "      <td>-40.81</td>\n",
       "      <td>0.480470</td>\n",
       "      <td>83.27</td>\n",
       "      <td>28.13</td>\n",
       "      <td>0</td>\n",
       "    </tr>\n",
       "    <tr>\n",
       "      <th>4</th>\n",
       "      <td>-41.42</td>\n",
       "      <td>0.479189</td>\n",
       "      <td>83.25</td>\n",
       "      <td>28.13</td>\n",
       "      <td>0</td>\n",
       "    </tr>\n",
       "    <tr>\n",
       "      <th>...</th>\n",
       "      <td>...</td>\n",
       "      <td>...</td>\n",
       "      <td>...</td>\n",
       "      <td>...</td>\n",
       "      <td>...</td>\n",
       "    </tr>\n",
       "    <tr>\n",
       "      <th>3238</th>\n",
       "      <td>-14.82</td>\n",
       "      <td>0.080719</td>\n",
       "      <td>83.35</td>\n",
       "      <td>28.41</td>\n",
       "      <td>0</td>\n",
       "    </tr>\n",
       "    <tr>\n",
       "      <th>3239</th>\n",
       "      <td>-21.09</td>\n",
       "      <td>0.029469</td>\n",
       "      <td>83.33</td>\n",
       "      <td>28.41</td>\n",
       "      <td>0</td>\n",
       "    </tr>\n",
       "    <tr>\n",
       "      <th>3240</th>\n",
       "      <td>-25.67</td>\n",
       "      <td>0.039719</td>\n",
       "      <td>83.28</td>\n",
       "      <td>28.41</td>\n",
       "      <td>0</td>\n",
       "    </tr>\n",
       "    <tr>\n",
       "      <th>3241</th>\n",
       "      <td>-28.75</td>\n",
       "      <td>0.019219</td>\n",
       "      <td>83.22</td>\n",
       "      <td>28.49</td>\n",
       "      <td>0</td>\n",
       "    </tr>\n",
       "    <tr>\n",
       "      <th>3242</th>\n",
       "      <td>-31.03</td>\n",
       "      <td>0.021781</td>\n",
       "      <td>83.23</td>\n",
       "      <td>28.49</td>\n",
       "      <td>0</td>\n",
       "    </tr>\n",
       "  </tbody>\n",
       "</table>\n",
       "<p>3243 rows × 5 columns</p>\n",
       "</div>"
      ],
      "text/plain": [
       "        BVP       EDA     HR   TEMP  Label\n",
       "0    -27.92  0.170407  82.38  28.39      0\n",
       "1    -32.25  0.477908  82.67  28.13      0\n",
       "2    -36.93  0.479189  83.10  28.13      0\n",
       "3    -40.81  0.480470  83.27  28.13      0\n",
       "4    -41.42  0.479189  83.25  28.13      0\n",
       "...     ...       ...    ...    ...    ...\n",
       "3238 -14.82  0.080719  83.35  28.41      0\n",
       "3239 -21.09  0.029469  83.33  28.41      0\n",
       "3240 -25.67  0.039719  83.28  28.41      0\n",
       "3241 -28.75  0.019219  83.22  28.49      0\n",
       "3242 -31.03  0.021781  83.23  28.49      0\n",
       "\n",
       "[3243 rows x 5 columns]"
      ]
     },
     "execution_count": 9,
     "metadata": {},
     "output_type": "execute_result"
    }
   ],
   "source": [
    "S_df[0]"
   ]
  },
  {
   "attachments": {},
   "cell_type": "markdown",
   "metadata": {},
   "source": [
    "## Combining all the dataframes into single dataframe."
   ]
  },
  {
   "cell_type": "code",
   "execution_count": 10,
   "metadata": {},
   "outputs": [
    {
     "data": {
      "text/html": [
       "<div>\n",
       "<style scoped>\n",
       "    .dataframe tbody tr th:only-of-type {\n",
       "        vertical-align: middle;\n",
       "    }\n",
       "\n",
       "    .dataframe tbody tr th {\n",
       "        vertical-align: top;\n",
       "    }\n",
       "\n",
       "    .dataframe thead th {\n",
       "        text-align: right;\n",
       "    }\n",
       "</style>\n",
       "<table border=\"1\" class=\"dataframe\">\n",
       "  <thead>\n",
       "    <tr style=\"text-align: right;\">\n",
       "      <th></th>\n",
       "      <th>BVP</th>\n",
       "      <th>EDA</th>\n",
       "      <th>HR</th>\n",
       "      <th>TEMP</th>\n",
       "      <th>Label</th>\n",
       "    </tr>\n",
       "  </thead>\n",
       "  <tbody>\n",
       "    <tr>\n",
       "      <th>0</th>\n",
       "      <td>-27.92</td>\n",
       "      <td>0.170407</td>\n",
       "      <td>82.38</td>\n",
       "      <td>28.39</td>\n",
       "      <td>0</td>\n",
       "    </tr>\n",
       "    <tr>\n",
       "      <th>1</th>\n",
       "      <td>-32.25</td>\n",
       "      <td>0.477908</td>\n",
       "      <td>82.67</td>\n",
       "      <td>28.13</td>\n",
       "      <td>0</td>\n",
       "    </tr>\n",
       "    <tr>\n",
       "      <th>2</th>\n",
       "      <td>-36.93</td>\n",
       "      <td>0.479189</td>\n",
       "      <td>83.10</td>\n",
       "      <td>28.13</td>\n",
       "      <td>0</td>\n",
       "    </tr>\n",
       "    <tr>\n",
       "      <th>3</th>\n",
       "      <td>-40.81</td>\n",
       "      <td>0.480470</td>\n",
       "      <td>83.27</td>\n",
       "      <td>28.13</td>\n",
       "      <td>0</td>\n",
       "    </tr>\n",
       "    <tr>\n",
       "      <th>4</th>\n",
       "      <td>-41.42</td>\n",
       "      <td>0.479189</td>\n",
       "      <td>83.25</td>\n",
       "      <td>28.13</td>\n",
       "      <td>0</td>\n",
       "    </tr>\n",
       "    <tr>\n",
       "      <th>...</th>\n",
       "      <td>...</td>\n",
       "      <td>...</td>\n",
       "      <td>...</td>\n",
       "      <td>...</td>\n",
       "      <td>...</td>\n",
       "    </tr>\n",
       "    <tr>\n",
       "      <th>115470</th>\n",
       "      <td>23.84</td>\n",
       "      <td>0.238594</td>\n",
       "      <td>65.37</td>\n",
       "      <td>32.18</td>\n",
       "      <td>0</td>\n",
       "    </tr>\n",
       "    <tr>\n",
       "      <th>115471</th>\n",
       "      <td>27.86</td>\n",
       "      <td>0.236032</td>\n",
       "      <td>65.42</td>\n",
       "      <td>32.18</td>\n",
       "      <td>0</td>\n",
       "    </tr>\n",
       "    <tr>\n",
       "      <th>115472</th>\n",
       "      <td>33.12</td>\n",
       "      <td>0.218093</td>\n",
       "      <td>65.45</td>\n",
       "      <td>32.18</td>\n",
       "      <td>0</td>\n",
       "    </tr>\n",
       "    <tr>\n",
       "      <th>115473</th>\n",
       "      <td>39.34</td>\n",
       "      <td>0.219374</td>\n",
       "      <td>65.47</td>\n",
       "      <td>32.18</td>\n",
       "      <td>0</td>\n",
       "    </tr>\n",
       "    <tr>\n",
       "      <th>115474</th>\n",
       "      <td>45.56</td>\n",
       "      <td>0.219374</td>\n",
       "      <td>65.50</td>\n",
       "      <td>32.18</td>\n",
       "      <td>0</td>\n",
       "    </tr>\n",
       "  </tbody>\n",
       "</table>\n",
       "<p>115475 rows × 5 columns</p>\n",
       "</div>"
      ],
      "text/plain": [
       "          BVP       EDA     HR   TEMP  Label\n",
       "0      -27.92  0.170407  82.38  28.39      0\n",
       "1      -32.25  0.477908  82.67  28.13      0\n",
       "2      -36.93  0.479189  83.10  28.13      0\n",
       "3      -40.81  0.480470  83.27  28.13      0\n",
       "4      -41.42  0.479189  83.25  28.13      0\n",
       "...       ...       ...    ...    ...    ...\n",
       "115470  23.84  0.238594  65.37  32.18      0\n",
       "115471  27.86  0.236032  65.42  32.18      0\n",
       "115472  33.12  0.218093  65.45  32.18      0\n",
       "115473  39.34  0.219374  65.47  32.18      0\n",
       "115474  45.56  0.219374  65.50  32.18      0\n",
       "\n",
       "[115475 rows x 5 columns]"
      ]
     },
     "execution_count": 10,
     "metadata": {},
     "output_type": "execute_result"
    }
   ],
   "source": [
    "Students = pd.concat([S_df[k] for k in range(0,35)])\n",
    "Students.reset_index(drop=True)"
   ]
  },
  {
   "attachments": {},
   "cell_type": "markdown",
   "metadata": {},
   "source": [
    "## Exporting the Last DataFrame to cvs file"
   ]
  },
  {
   "cell_type": "code",
   "execution_count": 11,
   "metadata": {},
   "outputs": [],
   "source": [
    "Students.to_csv(\"Combined.csv\")"
   ]
  },
  {
   "attachments": {},
   "cell_type": "markdown",
   "metadata": {},
   "source": [
    "## Classification"
   ]
  },
  {
   "attachments": {},
   "cell_type": "markdown",
   "metadata": {},
   "source": [
    "## Decision Tree Classification"
   ]
  },
  {
   "cell_type": "code",
   "execution_count": 12,
   "metadata": {},
   "outputs": [
    {
     "data": {
      "text/html": [
       "<style>#sk-container-id-1 {color: black;background-color: white;}#sk-container-id-1 pre{padding: 0;}#sk-container-id-1 div.sk-toggleable {background-color: white;}#sk-container-id-1 label.sk-toggleable__label {cursor: pointer;display: block;width: 100%;margin-bottom: 0;padding: 0.3em;box-sizing: border-box;text-align: center;}#sk-container-id-1 label.sk-toggleable__label-arrow:before {content: \"▸\";float: left;margin-right: 0.25em;color: #696969;}#sk-container-id-1 label.sk-toggleable__label-arrow:hover:before {color: black;}#sk-container-id-1 div.sk-estimator:hover label.sk-toggleable__label-arrow:before {color: black;}#sk-container-id-1 div.sk-toggleable__content {max-height: 0;max-width: 0;overflow: hidden;text-align: left;background-color: #f0f8ff;}#sk-container-id-1 div.sk-toggleable__content pre {margin: 0.2em;color: black;border-radius: 0.25em;background-color: #f0f8ff;}#sk-container-id-1 input.sk-toggleable__control:checked~div.sk-toggleable__content {max-height: 200px;max-width: 100%;overflow: auto;}#sk-container-id-1 input.sk-toggleable__control:checked~label.sk-toggleable__label-arrow:before {content: \"▾\";}#sk-container-id-1 div.sk-estimator input.sk-toggleable__control:checked~label.sk-toggleable__label {background-color: #d4ebff;}#sk-container-id-1 div.sk-label input.sk-toggleable__control:checked~label.sk-toggleable__label {background-color: #d4ebff;}#sk-container-id-1 input.sk-hidden--visually {border: 0;clip: rect(1px 1px 1px 1px);clip: rect(1px, 1px, 1px, 1px);height: 1px;margin: -1px;overflow: hidden;padding: 0;position: absolute;width: 1px;}#sk-container-id-1 div.sk-estimator {font-family: monospace;background-color: #f0f8ff;border: 1px dotted black;border-radius: 0.25em;box-sizing: border-box;margin-bottom: 0.5em;}#sk-container-id-1 div.sk-estimator:hover {background-color: #d4ebff;}#sk-container-id-1 div.sk-parallel-item::after {content: \"\";width: 100%;border-bottom: 1px solid gray;flex-grow: 1;}#sk-container-id-1 div.sk-label:hover label.sk-toggleable__label {background-color: #d4ebff;}#sk-container-id-1 div.sk-serial::before {content: \"\";position: absolute;border-left: 1px solid gray;box-sizing: border-box;top: 0;bottom: 0;left: 50%;z-index: 0;}#sk-container-id-1 div.sk-serial {display: flex;flex-direction: column;align-items: center;background-color: white;padding-right: 0.2em;padding-left: 0.2em;position: relative;}#sk-container-id-1 div.sk-item {position: relative;z-index: 1;}#sk-container-id-1 div.sk-parallel {display: flex;align-items: stretch;justify-content: center;background-color: white;position: relative;}#sk-container-id-1 div.sk-item::before, #sk-container-id-1 div.sk-parallel-item::before {content: \"\";position: absolute;border-left: 1px solid gray;box-sizing: border-box;top: 0;bottom: 0;left: 50%;z-index: -1;}#sk-container-id-1 div.sk-parallel-item {display: flex;flex-direction: column;z-index: 1;position: relative;background-color: white;}#sk-container-id-1 div.sk-parallel-item:first-child::after {align-self: flex-end;width: 50%;}#sk-container-id-1 div.sk-parallel-item:last-child::after {align-self: flex-start;width: 50%;}#sk-container-id-1 div.sk-parallel-item:only-child::after {width: 0;}#sk-container-id-1 div.sk-dashed-wrapped {border: 1px dashed gray;margin: 0 0.4em 0.5em 0.4em;box-sizing: border-box;padding-bottom: 0.4em;background-color: white;}#sk-container-id-1 div.sk-label label {font-family: monospace;font-weight: bold;display: inline-block;line-height: 1.2em;}#sk-container-id-1 div.sk-label-container {text-align: center;}#sk-container-id-1 div.sk-container {/* jupyter's `normalize.less` sets `[hidden] { display: none; }` but bootstrap.min.css set `[hidden] { display: none !important; }` so we also need the `!important` here to be able to override the default hidden behavior on the sphinx rendered scikit-learn.org. See: https://github.com/scikit-learn/scikit-learn/issues/21755 */display: inline-block !important;position: relative;}#sk-container-id-1 div.sk-text-repr-fallback {display: none;}</style><div id=\"sk-container-id-1\" class=\"sk-top-container\"><div class=\"sk-text-repr-fallback\"><pre>DecisionTreeClassifier()</pre><b>In a Jupyter environment, please rerun this cell to show the HTML representation or trust the notebook. <br />On GitHub, the HTML representation is unable to render, please try loading this page with nbviewer.org.</b></div><div class=\"sk-container\" hidden><div class=\"sk-item\"><div class=\"sk-estimator sk-toggleable\"><input class=\"sk-toggleable__control sk-hidden--visually\" id=\"sk-estimator-id-1\" type=\"checkbox\" checked><label for=\"sk-estimator-id-1\" class=\"sk-toggleable__label sk-toggleable__label-arrow\">DecisionTreeClassifier</label><div class=\"sk-toggleable__content\"><pre>DecisionTreeClassifier()</pre></div></div></div></div></div>"
      ],
      "text/plain": [
       "DecisionTreeClassifier()"
      ]
     },
     "execution_count": 12,
     "metadata": {},
     "output_type": "execute_result"
    }
   ],
   "source": [
    "from sklearn.tree import DecisionTreeClassifier\n",
    "from sklearn.metrics import classification_report, confusion_matrix\n",
    "from sklearn.model_selection import train_test_split, cross_val_score\n",
    "\n",
    "X = Students.iloc[:,:4]\n",
    "y = Students[\"Label\"]\n",
    "X_train, X_test, y_train, y_test = train_test_split(X, y, test_size=0.3, random_state=42) # 70% training and 30% test\n",
    "\n",
    "tree = DecisionTreeClassifier()\n",
    "tree.fit(X_train, y_train)"
   ]
  },
  {
   "cell_type": "code",
   "execution_count": 13,
   "metadata": {},
   "outputs": [
    {
     "name": "stdout",
     "output_type": "stream",
     "text": [
      "              precision    recall  f1-score   support\n",
      "\n",
      "           0       0.98      0.98      0.98     22342\n",
      "           1       0.96      0.96      0.96     12301\n",
      "\n",
      "    accuracy                           0.97     34643\n",
      "   macro avg       0.97      0.97      0.97     34643\n",
      "weighted avg       0.97      0.97      0.97     34643\n",
      "\n",
      "Confusion Metrix [[21903   439]\n",
      " [  451 11850]]\n"
     ]
    }
   ],
   "source": [
    "preds = tree.predict(X_test)\n",
    "print(classification_report(preds, y_test))\n",
    "print(\"Confusion Metrix\", confusion_matrix(preds, y_test))"
   ]
  },
  {
   "cell_type": "code",
   "execution_count": 14,
   "metadata": {},
   "outputs": [
    {
     "name": "stdout",
     "output_type": "stream",
     "text": [
      "[0.56926115 0.49063009 0.54113409 0.53602605]\n",
      "Cross-Validation average Score:  0.5342628427209949\n"
     ]
    }
   ],
   "source": [
    "# Cross Validation on Decision Tree Classifier\n",
    "\n",
    "scores = cross_val_score(tree, X, y, cv=4)\n",
    "\n",
    "print(scores)\n",
    "print(\"Cross-Validation average Score: \", np.mean(scores))"
   ]
  },
  {
   "attachments": {},
   "cell_type": "markdown",
   "metadata": {},
   "source": [
    "## Defining MLP"
   ]
  },
  {
   "cell_type": "code",
   "execution_count": 15,
   "metadata": {},
   "outputs": [
    {
     "name": "stderr",
     "output_type": "stream",
     "text": [
      "2023-04-24 07:44:55.237441: I tensorflow/core/platform/cpu_feature_guard.cc:193] This TensorFlow binary is optimized with oneAPI Deep Neural Network Library (oneDNN) to use the following CPU instructions in performance-critical operations:  AVX2 FMA\n",
      "To enable them in other operations, rebuild TensorFlow with the appropriate compiler flags.\n",
      "2023-04-24 07:44:58.129634: I tensorflow/core/platform/cpu_feature_guard.cc:193] This TensorFlow binary is optimized with oneAPI Deep Neural Network Library (oneDNN) to use the following CPU instructions in performance-critical operations:  AVX2 FMA\n",
      "To enable them in other operations, rebuild TensorFlow with the appropriate compiler flags.\n"
     ]
    }
   ],
   "source": [
    "from tensorflow.keras.models import Sequential\n",
    "from tensorflow.keras.layers import Dense\n",
    "from tensorflow.keras.losses import BinaryCrossentropy\n",
    "\n",
    "model = Sequential()\n",
    "model.add(Dense(512, activation='relu'))\n",
    "model.add(Dense(256, activation='relu'))\n",
    "model.add(Dense(128, activation='relu'))\n",
    "model.add(Dense(64, activation='relu'))\n",
    "model.add(Dense(1, activation='sigmoid'))\n",
    "model.compile(optimizer='adam', metrics='acc', loss=BinaryCrossentropy())"
   ]
  },
  {
   "cell_type": "code",
   "execution_count": 16,
   "metadata": {},
   "outputs": [
    {
     "name": "stderr",
     "output_type": "stream",
     "text": [
      "/usr/local/lib/python3.10/dist-packages/keras/engine/data_adapter.py:1699: FutureWarning: The behavior of `series[i:j]` with an integer-dtype index is deprecated. In a future version, this will be treated as *label-based* indexing, consistent with e.g. `series[i]` lookups. To retain the old behavior, use `series.iloc[i:j]`. To get the future behavior, use `series.loc[i:j]`.\n",
      "  return t[start:end]\n"
     ]
    },
    {
     "data": {
      "text/plain": [
       "<keras.callbacks.History at 0x7f8832715390>"
      ]
     },
     "execution_count": 16,
     "metadata": {},
     "output_type": "execute_result"
    }
   ],
   "source": [
    "model.fit(X_train, y_train, epochs=500, batch_size=512, validation_split=0.15, verbose=False)"
   ]
  },
  {
   "cell_type": "code",
   "execution_count": 17,
   "metadata": {},
   "outputs": [
    {
     "name": "stdout",
     "output_type": "stream",
     "text": [
      "1083/1083 [==============================] - 4s 4ms/step - loss: 0.4896 - acc: 0.7515\n"
     ]
    },
    {
     "data": {
      "text/plain": [
       "[0.48956725001335144, 0.7515226602554321]"
      ]
     },
     "execution_count": 17,
     "metadata": {},
     "output_type": "execute_result"
    }
   ],
   "source": [
    "model.evaluate(X_test, y_test)"
   ]
  },
  {
   "attachments": {},
   "cell_type": "markdown",
   "metadata": {},
   "source": [
    "## References"
   ]
  },
  {
   "attachments": {},
   "cell_type": "markdown",
   "metadata": {},
   "source": [
    "[1] Measurement Device for Stress Level and Vital Sign Based on Sensor Fusion.\n",
    "    https://doi.org/10.4258/hir.2021.27.1.11\n",
    "\n",
    "[2] Efficient methods for acute stress detection using heart rate variability data from Ambient Assisted Living sensors.\n",
    "    https://doi.org/10.1186/s12938-021-00911-6\n",
    "\n",
    "[3] Continuous Stress Detection Using Wearable Sensors in Real Life: Algorithmic Programming Contest Case Study.\n",
    "    https://doi.org/10.3390/s19081849"
   ]
  }
 ],
 "metadata": {
  "kernelspec": {
   "display_name": "Python 3.10.6 64-bit",
   "language": "python",
   "name": "python3"
  },
  "language_info": {
   "codemirror_mode": {
    "name": "ipython",
    "version": 3
   },
   "file_extension": ".py",
   "mimetype": "text/x-python",
   "name": "python",
   "nbconvert_exporter": "python",
   "pygments_lexer": "ipython3",
   "version": "3.10.6"
  },
  "orig_nbformat": 4,
  "vscode": {
   "interpreter": {
    "hash": "31f2aee4e71d21fbe5cf8b01ff0e069b9275f58929596ceb00d14d90e3e16cd6"
   }
  }
 },
 "nbformat": 4,
 "nbformat_minor": 2
}
